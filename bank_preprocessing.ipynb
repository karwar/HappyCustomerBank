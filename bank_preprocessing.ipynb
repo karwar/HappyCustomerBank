{
 "cells": [
  {
   "cell_type": "markdown",
   "metadata": {},
   "source": [
    "## Case study\n",
    "\n",
    "Problem description: https://discuss.analyticsvidhya.com/t/hackathon-3-x-predict-customer-worth-for-happy-customer-bank/3802\n"
   ]
  },
  {
   "cell_type": "markdown",
   "metadata": {},
   "source": [
    "# Data preprocessing"
   ]
  },
  {
   "cell_type": "code",
   "execution_count": null,
   "metadata": {
    "collapsed": true
   },
   "outputs": [],
   "source": [
    "import pandas as pd\n",
    "import numpy as np\n",
    "import matplotlib.pyplot as plt"
   ]
  },
  {
   "cell_type": "code",
   "execution_count": null,
   "metadata": {
    "collapsed": true
   },
   "outputs": [],
   "source": [
    "data = pd.read_csv('Train_nyOWmfK.csv', encoding = \"latin1\")\n",
    "print(data.shape)"
   ]
  },
  {
   "cell_type": "code",
   "execution_count": 3,
   "metadata": {
    "collapsed": true
   },
   "outputs": [],
   "source": [
    "del data['ID']\n",
    "del data['Lead_Creation_Date']"
   ]
  },
  {
   "cell_type": "markdown",
   "metadata": {},
   "source": [
    "Let's deal with variables one by one."
   ]
  },
  {
   "cell_type": "markdown",
   "metadata": {},
   "source": [
    "# DOB"
   ]
  },
  {
   "cell_type": "code",
   "execution_count": 4,
   "metadata": {
    "collapsed": true
   },
   "outputs": [],
   "source": [
    "data['DOB'] = pd.to_datetime(data['DOB'])\n",
    "data['DOB'] = [x.year for x in data['DOB']]"
   ]
  },
  {
   "cell_type": "code",
   "execution_count": 5,
   "metadata": {
    "collapsed": true
   },
   "outputs": [],
   "source": [
    "data['DOB'] = np.where(data.DOB <2000, data['DOB'], data['DOB']-100)"
   ]
  },
  {
   "cell_type": "code",
   "execution_count": 6,
   "metadata": {
    "collapsed": true
   },
   "outputs": [],
   "source": [
    "data = data[data.DOB>1930]"
   ]
  },
  {
   "cell_type": "markdown",
   "metadata": {},
   "source": [
    "# Gender"
   ]
  },
  {
   "cell_type": "code",
   "execution_count": 9,
   "metadata": {
    "collapsed": true
   },
   "outputs": [],
   "source": [
    "data['Gender'] = data.Gender.replace({'Male':0, 'Female':1})"
   ]
  },
  {
   "cell_type": "markdown",
   "metadata": {},
   "source": [
    "# City"
   ]
  },
  {
   "cell_type": "code",
   "execution_count": 10,
   "metadata": {
    "collapsed": false
   },
   "outputs": [],
   "source": [
    "data['City2'] = data.City.map({'Delhi':'D', 'Bengaluru':'B', \"Mumbai\":'M', 'Hyderabad':'H', \n",
    "                                  'Chennai': 'C', 'Pune': 'P','Kolkata':'K','Ahmedabad':'A',\n",
    "                              'Jaipur':'J','Gurgaon':'G','Coimbatore':'Co'}).fillna('O')"
   ]
  },
  {
   "cell_type": "code",
   "execution_count": 11,
   "metadata": {
    "collapsed": true
   },
   "outputs": [],
   "source": [
    "del data['City']"
   ]
  },
  {
   "cell_type": "markdown",
   "metadata": {},
   "source": [
    "# Employer_Name"
   ]
  },
  {
   "cell_type": "code",
   "execution_count": 13,
   "metadata": {
    "collapsed": false
   },
   "outputs": [],
   "source": [
    "x1 = data.Employer_Name.value_counts()\n",
    "x1 = x1.to_dict()\n",
    "x1['0'] = 1 #tam, gdzie nie ma pracodawcy, zakładamy, że to firma 1-osobowa"
   ]
  },
  {
   "cell_type": "code",
   "execution_count": 14,
   "metadata": {
    "collapsed": true
   },
   "outputs": [],
   "source": [
    "data['Employees'] = data.Employer_Name.map(x1).fillna(1).astype(int)"
   ]
  },
  {
   "cell_type": "code",
   "execution_count": 15,
   "metadata": {
    "collapsed": true
   },
   "outputs": [],
   "source": [
    "data['Employees'] = np.log(data['Employees'])"
   ]
  },
  {
   "cell_type": "code",
   "execution_count": 16,
   "metadata": {
    "collapsed": false
   },
   "outputs": [],
   "source": [
    "del data['Employer_Name']"
   ]
  },
  {
   "cell_type": "markdown",
   "metadata": {},
   "source": [
    "# Monthly_Income"
   ]
  },
  {
   "cell_type": "code",
   "execution_count": 17,
   "metadata": {
    "collapsed": true
   },
   "outputs": [],
   "source": [
    "data = data[data.Monthly_Income <= 1200000]"
   ]
  },
  {
   "cell_type": "code",
   "execution_count": 18,
   "metadata": {
    "collapsed": true
   },
   "outputs": [],
   "source": [
    "data = data[data.Monthly_Income > 10000]"
   ]
  },
  {
   "cell_type": "code",
   "execution_count": 19,
   "metadata": {
    "collapsed": false
   },
   "outputs": [],
   "source": [
    "data['Monthly_Income'] = np.log(data['Monthly_Income'])"
   ]
  },
  {
   "cell_type": "markdown",
   "metadata": {},
   "source": [
    "# Loan_Amount_Applied Loan_Amount_Submitted"
   ]
  },
  {
   "cell_type": "code",
   "execution_count": 22,
   "metadata": {
    "collapsed": true
   },
   "outputs": [],
   "source": [
    "data['Loan_Amount_Applied'] = data.Loan_Amount_Applied.fillna(0)\n",
    "data['Loan_Amount_Submitted'] = data.Loan_Amount_Submitted.fillna(0)"
   ]
  },
  {
   "cell_type": "code",
   "execution_count": 34,
   "metadata": {
    "collapsed": false
   },
   "outputs": [
    {
     "data": {
      "text/plain": [
       "0.935661033874577"
      ]
     },
     "execution_count": 34,
     "metadata": {},
     "output_type": "execute_result"
    }
   ],
   "source": [
    "a = data[data.Loan_Amount_Applied>0]\n",
    "a = a[a.Loan_Amount_Submitted>0]\n",
    "a = a[a.Loan_Amount_Submitted <= a.Loan_Amount_Applied]\n",
    "a = a.assign(iloraz = a.Loan_Amount_Submitted/a.Loan_Amount_Applied)\n",
    "sr = np.mean(a['iloraz'])\n",
    "sr"
   ]
  },
  {
   "cell_type": "code",
   "execution_count": 41,
   "metadata": {
    "collapsed": false
   },
   "outputs": [
    {
     "name": "stdout",
     "output_type": "stream",
     "text": [
      "375660.6675193374 329362.0196114258\n"
     ]
    }
   ],
   "source": [
    "ma = np.mean(a['Loan_Amount_Applied'])\n",
    "ms = np.mean(a['Loan_Amount_Submitted'])\n",
    "print (ma,ms)"
   ]
  },
  {
   "cell_type": "code",
   "execution_count": 58,
   "metadata": {
    "collapsed": false
   },
   "outputs": [],
   "source": [
    "def imputacja_A(d):\n",
    "    if (d['Loan_Amount_Applied']==0):\n",
    "        if (d['Loan_Amount_Submitted'] >= 100):\n",
    "            return d['Loan_Amount_Submitted']/sr\n",
    "        else:\n",
    "            d['Loan_Amount_Submitted'] == 0\n",
    "    return d['Loan_Amount_Applied']\n",
    "        \n",
    "data['Loan_Amount_Applied'] = data.apply(imputacja_A, axis=1)"
   ]
  },
  {
   "cell_type": "code",
   "execution_count": 63,
   "metadata": {
    "collapsed": true
   },
   "outputs": [],
   "source": [
    "def imputacja_A1(d):\n",
    "    if (d['Loan_Amount_Applied']<1000 and d['Loan_Amount_Submitted'] >d['Loan_Amount_Applied']):\n",
    "        return d['Loan_Amount_Submitted']/sr\n",
    "    else:\n",
    "        return d['Loan_Amount_Applied']\n",
    "        \n",
    "data['Loan_Amount_Applied'] = data.apply(imputacja_A1, axis=1)"
   ]
  },
  {
   "cell_type": "code",
   "execution_count": 60,
   "metadata": {
    "collapsed": false
   },
   "outputs": [],
   "source": [
    "def imputacja_S(d):\n",
    "    if d['Loan_Amount_Submitted']==0:\n",
    "        if d['Loan_Amount_Applied'] >=100:\n",
    "            return d['Loan_Amount_Applied']*sr\n",
    "        else:\n",
    "            d['Loan_Amount_Applied'] == 0\n",
    "    return d['Loan_Amount_Submitted']\n",
    "        \n",
    "data['Loan_Amount_Submitted'] = data.apply(imputacja_S, axis=1)"
   ]
  },
  {
   "cell_type": "code",
   "execution_count": 64,
   "metadata": {
    "collapsed": true
   },
   "outputs": [],
   "source": [
    "# in case both are 0\n",
    "data['Loan_Amount_Applied'] = np.where(data.Loan_Amount_Applied==0, ma, data['Loan_Amount_Applied'])\n",
    "data['Loan_Amount_Submitted'] = np.where(data.Loan_Amount_Submitted==0, ms, data['Loan_Amount_Submitted'])"
   ]
  },
  {
   "cell_type": "code",
   "execution_count": 96,
   "metadata": {
    "collapsed": true
   },
   "outputs": [],
   "source": [
    "data['Loan_Amount_Applied'] = np.log(data['Loan_Amount_Applied'])\n",
    "data['Loan_Amount_Submitted'] = np.log(data['Loan_Amount_Submitted'])"
   ]
  },
  {
   "cell_type": "markdown",
   "metadata": {},
   "source": [
    "# Var1"
   ]
  },
  {
   "cell_type": "code",
   "execution_count": 68,
   "metadata": {
    "collapsed": true
   },
   "outputs": [],
   "source": [
    "data['var11'] = data.Var1.map({'HVYS': 'A','HCXG':'A', 'HAXF':'A', 'HBXB':'A',\n",
    "                               'HCXD':'B','HCYS':'B','HBXC':'B',\n",
    "                               'HBXH':'C','HAYT':'C','HBXX':'C',\n",
    "                               'HAZD':'D','HAVC':'D','HAXA':'D',\n",
    "                               'HCXF':'E','HBXD':'E',\n",
    "                               'HAXM':'F',\n",
    "                               'HBXA':'H',\n",
    "                               'HAXB':'I','HAXC':'I'})"
   ]
  },
  {
   "cell_type": "code",
   "execution_count": null,
   "metadata": {
    "collapsed": true
   },
   "outputs": [],
   "source": [
    "del data['Var1']"
   ]
  },
  {
   "cell_type": "markdown",
   "metadata": {},
   "source": [
    "# Filled_Form"
   ]
  },
  {
   "cell_type": "code",
   "execution_count": 73,
   "metadata": {
    "collapsed": false
   },
   "outputs": [
    {
     "data": {
      "text/plain": [
       "Filled_Form\n",
       "N    0.013337\n",
       "Y    0.022980\n",
       "Name: Disbursed, dtype: float64"
      ]
     },
     "execution_count": 73,
     "metadata": {},
     "output_type": "execute_result"
    }
   ],
   "source": [
    "x2 = data.groupby(['Filled_Form'])['Disbursed'].mean()\n",
    "x2"
   ]
  },
  {
   "cell_type": "markdown",
   "metadata": {},
   "source": [
    "# Device_Type"
   ]
  },
  {
   "cell_type": "code",
   "execution_count": 77,
   "metadata": {
    "collapsed": false
   },
   "outputs": [
    {
     "data": {
      "text/plain": [
       "Web-browser    60650\n",
       "Mobile         20735\n",
       "Name: Device_Type, dtype: int64"
      ]
     },
     "execution_count": 77,
     "metadata": {},
     "output_type": "execute_result"
    }
   ],
   "source": [
    "x1 = data.Device_Type.value_counts()\n",
    "x1"
   ]
  },
  {
   "cell_type": "code",
   "execution_count": 78,
   "metadata": {
    "collapsed": false
   },
   "outputs": [
    {
     "data": {
      "text/plain": [
       "Device_Type\n",
       "Mobile         0.012732\n",
       "Web-browser    0.016636\n",
       "Name: Disbursed, dtype: float64"
      ]
     },
     "execution_count": 78,
     "metadata": {},
     "output_type": "execute_result"
    }
   ],
   "source": [
    "x2 = data.groupby(['Device_Type'])['Disbursed'].mean()\n",
    "x2"
   ]
  },
  {
   "cell_type": "markdown",
   "metadata": {},
   "source": [
    "# Var2"
   ]
  },
  {
   "cell_type": "code",
   "execution_count": 87,
   "metadata": {
    "collapsed": false
   },
   "outputs": [],
   "source": [
    "data['Var2'] = np.where(data['Var2']=='A', 'D', data['Var2'])"
   ]
  },
  {
   "cell_type": "markdown",
   "metadata": {},
   "source": [
    "# Source"
   ]
  },
  {
   "cell_type": "code",
   "execution_count": 93,
   "metadata": {
    "collapsed": false
   },
   "outputs": [],
   "source": [
    "l = ['S122' ,'S133', 'S159','S143','S127','S137','S134']\n",
    "def Sou(d):\n",
    "    if d['Source'] in l:\n",
    "        return d['Source']\n",
    "    else:\n",
    "        return 'S0'\n",
    "        \n",
    "data['Source'] = data.apply(Sou, axis=1)"
   ]
  },
  {
   "cell_type": "markdown",
   "metadata": {
    "collapsed": true
   },
   "source": [
    "# Var4"
   ]
  },
  {
   "cell_type": "code",
   "execution_count": 279,
   "metadata": {
    "collapsed": true
   },
   "outputs": [],
   "source": [
    "data['var4'] = data.Var4.astype('str')"
   ]
  },
  {
   "cell_type": "markdown",
   "metadata": {},
   "source": [
    "# Loan_Tenure_Applied Loan_Tenure_Submitted"
   ]
  },
  {
   "cell_type": "code",
   "execution_count": 100,
   "metadata": {
    "collapsed": true
   },
   "outputs": [],
   "source": [
    "data['Loan_Tenure_Applied'] = data.Loan_Tenure_Applied.fillna(0)\n",
    "data['Loan_Tenure_Submitted'] = data.Loan_Tenure_Submitted.fillna(0)"
   ]
  },
  {
   "cell_type": "code",
   "execution_count": 102,
   "metadata": {
    "collapsed": false
   },
   "outputs": [
    {
     "name": "stdout",
     "output_type": "stream",
     "text": [
      "3.517545083192189 3.8928126855238716\n"
     ]
    }
   ],
   "source": [
    "a = data[data.Loan_Tenure_Applied >0]\n",
    "ma = np.mean(a.Loan_Tenure_Applied)\n",
    "a = data[data.Loan_Tenure_Submitted >0]\n",
    "ms = np.mean(a.Loan_Tenure_Submitted)\n",
    "print (ma,ms)"
   ]
  },
  {
   "cell_type": "code",
   "execution_count": 107,
   "metadata": {
    "collapsed": false
   },
   "outputs": [],
   "source": [
    "def imputacja_TA(d):\n",
    "    if (d['Loan_Tenure_Applied']==0 and d['Loan_Tenure_Submitted'] > 0):\n",
    "        return d['Loan_Tenure_Submitted']\n",
    "    else:\n",
    "        return d['Loan_Tenure_Applied']\n",
    "        \n",
    "data['Loan_Tenure_Applied'] = data.apply(imputacja_TA, axis=1)"
   ]
  },
  {
   "cell_type": "code",
   "execution_count": 108,
   "metadata": {
    "collapsed": true
   },
   "outputs": [],
   "source": [
    "def imputacja_TS(d):\n",
    "    if (d['Loan_Tenure_Submitted']==0 and d['Loan_Tenure_Applied'] > 0):\n",
    "        return d['Loan_Tenure_Applied']\n",
    "    else:\n",
    "        return d['Loan_Tenure_Submitted']\n",
    "        \n",
    "data['Loan_Tenure_Submitted'] = data.apply(imputacja_TS, axis=1)"
   ]
  },
  {
   "cell_type": "code",
   "execution_count": 109,
   "metadata": {
    "collapsed": true
   },
   "outputs": [],
   "source": [
    "# in case both are 0\n",
    "data['Loan_Tenure_Applied'] = np.where(data.Loan_Tenure_Applied==0, ma, data['Loan_Tenure_Applied'])\n",
    "data['Loan_Tenure_Submitted'] = np.where(data.Loan_Tenure_Submitted==0, ms, data['Loan_Tenure_Submitted'])"
   ]
  },
  {
   "cell_type": "markdown",
   "metadata": {},
   "source": [
    "# Salary_Account"
   ]
  },
  {
   "cell_type": "code",
   "execution_count": 114,
   "metadata": {
    "collapsed": true
   },
   "outputs": [],
   "source": [
    "l = ['HDFC Bank','ICICI Bank','State Bank of India','Axis Bank',\n",
    "     'Citibank','Kotak Bank','IDBI Bank','Punjab National Bank',\n",
    "     'Bank of India ']\n",
    "def B(d):\n",
    "    if d['Salary_Account'] in l:\n",
    "        return d['Salary_Account']\n",
    "    else:\n",
    "        return 'other'\n",
    "        \n",
    "data['Salary_Account'] = data.apply(B, axis=1)"
   ]
  },
  {
   "cell_type": "markdown",
   "metadata": {},
   "source": [
    "# Var5"
   ]
  },
  {
   "cell_type": "markdown",
   "metadata": {},
   "source": [
    "# Existing_EMI"
   ]
  },
  {
   "cell_type": "code",
   "execution_count": 126,
   "metadata": {
    "collapsed": false
   },
   "outputs": [],
   "source": [
    "data['Existing_EMI'] = data.Existing_EMI.fillna(0)"
   ]
  },
  {
   "cell_type": "code",
   "execution_count": 131,
   "metadata": {
    "collapsed": false
   },
   "outputs": [
    {
     "name": "stderr",
     "output_type": "stream",
     "text": [
      "/home/kodolamacz/anaconda3/lib/python3.6/site-packages/ipykernel/__main__.py:1: RuntimeWarning: divide by zero encountered in log\n",
      "  if __name__ == '__main__':\n"
     ]
    }
   ],
   "source": [
    "data['Existing_EMI'] = np.where(data['Existing_EMI']==0, 0,np.log(data['Existing_EMI']))"
   ]
  },
  {
   "cell_type": "markdown",
   "metadata": {},
   "source": [
    "# Interest_Rate"
   ]
  },
  {
   "cell_type": "code",
   "execution_count": 133,
   "metadata": {
    "collapsed": false
   },
   "outputs": [
    {
     "data": {
      "text/plain": [
       "53734"
      ]
     },
     "execution_count": 133,
     "metadata": {},
     "output_type": "execute_result"
    }
   ],
   "source": [
    "data.Interest_Rate.isnull().sum()"
   ]
  },
  {
   "cell_type": "code",
   "execution_count": null,
   "metadata": {
    "collapsed": true
   },
   "outputs": [],
   "source": [
    "del data['Interest_Rate'] #too many Nans"
   ]
  },
  {
   "cell_type": "markdown",
   "metadata": {},
   "source": [
    "# Processing_Fee"
   ]
  },
  {
   "cell_type": "code",
   "execution_count": 136,
   "metadata": {
    "collapsed": false
   },
   "outputs": [
    {
     "data": {
      "text/plain": [
       "54040"
      ]
     },
     "execution_count": 136,
     "metadata": {},
     "output_type": "execute_result"
    }
   ],
   "source": [
    "data.Processing_Fee.isnull().sum()"
   ]
  },
  {
   "cell_type": "code",
   "execution_count": null,
   "metadata": {
    "collapsed": true
   },
   "outputs": [],
   "source": [
    "del data['Processing_Fee'] #too many Nans"
   ]
  },
  {
   "cell_type": "markdown",
   "metadata": {},
   "source": [
    "# EMI_Loan_Submitted"
   ]
  },
  {
   "cell_type": "code",
   "execution_count": 137,
   "metadata": {
    "collapsed": false
   },
   "outputs": [
    {
     "data": {
      "text/plain": [
       "53734"
      ]
     },
     "execution_count": 137,
     "metadata": {},
     "output_type": "execute_result"
    }
   ],
   "source": [
    "data.EMI_Loan_Submitted.isnull().sum()"
   ]
  },
  {
   "cell_type": "code",
   "execution_count": 139,
   "metadata": {
    "collapsed": true
   },
   "outputs": [],
   "source": [
    "del data['EMI_Loan_Submitted'] #too many Nans"
   ]
  },
  {
   "cell_type": "markdown",
   "metadata": {},
   "source": [
    "# LoggedIn"
   ]
  },
  {
   "cell_type": "markdown",
   "metadata": {},
   "source": [
    "# Mobile_Verified"
   ]
  },
  {
   "cell_type": "code",
   "execution_count": 143,
   "metadata": {
    "collapsed": true
   },
   "outputs": [],
   "source": [
    "data = pd.get_dummies(data,drop_first=True)"
   ]
  },
  {
   "cell_type": "code",
   "execution_count": 144,
   "metadata": {
    "collapsed": false
   },
   "outputs": [
    {
     "data": {
      "text/plain": [
       "(81385, 54)"
      ]
     },
     "execution_count": 144,
     "metadata": {},
     "output_type": "execute_result"
    }
   ],
   "source": [
    "data.shape"
   ]
  },
  {
   "cell_type": "code",
   "execution_count": 145,
   "metadata": {
    "collapsed": false
   },
   "outputs": [
    {
     "data": {
      "text/plain": [
       "0    80112\n",
       "1     1273\n",
       "Name: Disbursed, dtype: int64"
      ]
     },
     "execution_count": 145,
     "metadata": {},
     "output_type": "execute_result"
    }
   ],
   "source": [
    "data.Disbursed.value_counts()"
   ]
  },
  {
   "cell_type": "code",
   "execution_count": 146,
   "metadata": {
    "collapsed": false
   },
   "outputs": [
    {
     "data": {
      "text/plain": [
       "False"
      ]
     },
     "execution_count": 146,
     "metadata": {},
     "output_type": "execute_result"
    }
   ],
   "source": [
    "data.isnull().values.any()"
   ]
  },
  {
   "cell_type": "code",
   "execution_count": 148,
   "metadata": {
    "collapsed": false
   },
   "outputs": [
    {
     "data": {
      "text/plain": [
       "False"
      ]
     },
     "execution_count": 148,
     "metadata": {},
     "output_type": "execute_result"
    }
   ],
   "source": [
    "data.isnull().values.any()"
   ]
  },
  {
   "cell_type": "code",
   "execution_count": 149,
   "metadata": {
    "collapsed": true
   },
   "outputs": [],
   "source": [
    "data.to_csv('data1.csv')"
   ]
  }
 ],
 "metadata": {
  "kernelspec": {
   "display_name": "Python 3",
   "language": "python",
   "name": "python3"
  },
  "language_info": {
   "codemirror_mode": {
    "name": "ipython",
    "version": 3
   },
   "file_extension": ".py",
   "mimetype": "text/x-python",
   "name": "python",
   "nbconvert_exporter": "python",
   "pygments_lexer": "ipython3",
   "version": "3.6.0"
  }
 },
 "nbformat": 4,
 "nbformat_minor": 2
}
